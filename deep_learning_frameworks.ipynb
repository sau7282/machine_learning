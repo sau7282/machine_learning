{
 "cells": [
  {
   "cell_type": "code",
   "execution_count": 1,
   "id": "0c2623c4",
   "metadata": {},
   "outputs": [],
   "source": [
    "# 1. What is TensorFlow 2.0, and how is it different from TensorFlow 1.x?\n",
    "#    TensorFlow 2.0 is a major update that enables eager execution by default, uses a more intuitive Pythonic interface,\n",
    "#    integrates tightly with Keras, and simplifies APIs for building and training models.\n",
    "\n",
    "# 2. How do you install TensorFlow 2.0?\n",
    "#    You can install TensorFlow 2.0 using pip: pip install tensorflow\n",
    "\n",
    "# 3. What is the primary function of the tf.function in TensorFlow 2.0?\n",
    "#    tf.function is used to convert a Python function into a high-performance TensorFlow graph, improving execution speed.\n",
    "\n",
    "# 4. What is the purpose of the Model class in TensorFlow 2.0?\n",
    "#    The Model class (tf.keras.Model) allows users to define and manage neural networks, providing methods for training,\n",
    "#    evaluation, and prediction.\n",
    "\n",
    "# 5. How do you create a neural network using TensorFlow 2.0?\n",
    "#    You can create a neural network using tf.keras.Sequential or by subclassing tf.keras.Model.\n",
    "#    Example: model = tf.keras.Sequential([tf.keras.layers.Dense(64, activation='relu'), ...])\n",
    "\n",
    "# 6. What is the importance of Tensor Space in TensorFlow?\n",
    "#    Tensor space refers to multi-dimensional arrays that TensorFlow uses to represent data; it's core to all computations\n",
    "#    including inputs, outputs, weights, etc.\n",
    "\n",
    "# 7. How can TensorBoard be integrated with TensorFlow 2.0?\n",
    "#    TensorBoard can be integrated by using tf.keras.callbacks.TensorBoard during model training to visualize metrics, graphs,\n",
    "#    and more.\n",
    "\n",
    "# 8. What is the purpose of TensorFlow Playground?\n",
    "#    TensorFlow Playground is a web-based tool to experiment with neural networks and visualize their behavior on simple datasets.\n",
    "\n",
    "# 9. What is Netron, and how is it useful for deep learning models?\n",
    "#    Netron is a viewer for neural network models. It helps visualize the structure of models like TensorFlow, Keras, PyTorch, etc.\n",
    "\n",
    "# 10. What is the difference between TensorFlow and PyTorch?\n",
    "#     TensorFlow is developed by Google and uses static computation graphs (though eager execution is now default),\n",
    "#     while PyTorch (by Facebook) uses dynamic graphs, which are more intuitive and Pythonic.\n",
    "\n",
    "# 11. How do you install PyTorch?\n",
    "#     You can install PyTorch using pip with: pip install torch torchvision\n",
    "\n",
    "# 12. What is the basic structure of a PyTorch neural network?\n",
    "#     A PyTorch neural network is typically defined by subclassing torch.nn.Module and implementing the forward() method.\n",
    "\n",
    "# 13. What is the significance of tensors in PyTorch?\n",
    "#     Tensors are the core data structure in PyTorch. They are multi-dimensional arrays that support GPU acceleration\n",
    "#     and are used for all computations.\n",
    "\n",
    "# 14. What is the difference between torch.Tensor and torch.cuda.Tensor in PyTorch?\n",
    "#     torch.Tensor refers to a tensor on the CPU, while torch.cuda.Tensor refers to a tensor allocated on the GPU for faster computation.\n",
    "\n",
    "# 15. What is the purpose of the torch.optim module in PyTorch?\n",
    "#     torch.optim provides optimization algorithms like SGD, Adam, etc., to update model parameters during training.\n",
    "\n",
    "# 16. What are some common activation functions used in neural networks?\n",
    "#     Common activation functions include ReLU, Sigmoid, Tanh, Softmax, and LeakyReLU.\n",
    "\n",
    "# 17. What is the difference between torch.nn.Module and torch.nn.Sequential in PyTorch?\n",
    "#     torch.nn.Module is a base class for all models and allows custom logic in forward(),\n",
    "#     whereas torch.nn.Sequential is a container for stacking layers in a linear sequence.\n",
    "\n",
    "# 18. How can you monitor training progress in TensorFlow 2.0?\n",
    "#     You can use callbacks like tf.keras.callbacks.TensorBoard and tf.keras.callbacks.ModelCheckpoint to monitor training metrics.\n",
    "\n",
    "# 19. How does the Keras API fit into TensorFlow 2.0?\n",
    "#     Keras is the high-level API in TensorFlow 2.0 for building and training models with ease and simplicity.\n",
    "\n",
    "# 20. What is an example of a deep learning project that can be implemented using TensorFlow 2.0?\n",
    "#     An example project: Building an image classifier using CNNs with TensorFlow 2.0 on the CIFAR-10 dataset.\n",
    "\n",
    "# 21. What is the main advantage of using pre-trained models in TensorFlow and PyTorch?\n",
    "#     Pre-trained models allow faster development by leveraging previously learned weights,\n",
    "#     saving time and computational resources while often improving accuracy on similar tasks.\n"
   ]
  },
  {
   "cell_type": "code",
   "execution_count": 2,
   "id": "4f4f9fc9",
   "metadata": {},
   "outputs": [],
   "source": [
    "# 1. How do you install and verify that TensorFlow 2.0 was installed successfully?\n",
    "#    Install TensorFlow with: pip install tensorflow\n",
    "#    Verify installation:\n",
    "#    import tensorflow as tf\n",
    "#    print(tf.__version__)  # Should print a version starting with '2.'"
   ]
  },
  {
   "cell_type": "code",
   "execution_count": 5,
   "id": "6b33b16b",
   "metadata": {},
   "outputs": [
    {
     "name": "stdout",
     "output_type": "stream",
     "text": [
      "2.16.1\n"
     ]
    }
   ],
   "source": [
    "# pip install tensorflow\n",
    "import tensorflow as tf\n",
    "print(tf.__version__)\n",
    "# output:2.16.1"
   ]
  },
  {
   "cell_type": "code",
   "execution_count": 7,
   "id": "1d1cfdc0",
   "metadata": {},
   "outputs": [],
   "source": [
    "# 2. How can you define a simple function in TensorFlow 2.0 to perform addition?\n",
    "import tensorflow as tf\n",
    "@tf.function\n",
    "def add(a, b):\n",
    "    return a + b"
   ]
  },
  {
   "cell_type": "code",
   "execution_count": 9,
   "id": "92f45afa",
   "metadata": {},
   "outputs": [
    {
     "name": "stderr",
     "output_type": "stream",
     "text": [
      "/Users/saurabhkumar/anaconda3/lib/python3.11/site-packages/keras/src/layers/core/dense.py:86: UserWarning: Do not pass an `input_shape`/`input_dim` argument to a layer. When using Sequential models, prefer using an `Input(shape)` object as the first layer in the model instead.\n",
      "  super().__init__(activity_regularizer=activity_regularizer, **kwargs)\n"
     ]
    }
   ],
   "source": [
    "# 3. How can you create a simple neural network in TensorFlow 2.0 with one hidden layer?\n",
    "from tensorflow.keras.models import Sequential\n",
    "from tensorflow.keras.layers import Dense\n",
    "\n",
    "input_dim = 10\n",
    "model = Sequential([\n",
    "    Dense(64, activation='relu', input_shape=(input_dim,)),\n",
    "    Dense(1, activation='sigmoid')\n",
    "])"
   ]
  },
  {
   "cell_type": "code",
   "execution_count": 11,
   "id": "33b17cff",
   "metadata": {},
   "outputs": [
    {
     "name": "stdout",
     "output_type": "stream",
     "text": [
      "Epoch 1/10\n"
     ]
    },
    {
     "name": "stderr",
     "output_type": "stream",
     "text": [
      "/Users/saurabhkumar/anaconda3/lib/python3.11/site-packages/keras/src/layers/core/dense.py:86: UserWarning: Do not pass an `input_shape`/`input_dim` argument to a layer. When using Sequential models, prefer using an `Input(shape)` object as the first layer in the model instead.\n",
      "  super().__init__(activity_regularizer=activity_regularizer, **kwargs)\n"
     ]
    },
    {
     "name": "stdout",
     "output_type": "stream",
     "text": [
      "\u001b[1m32/32\u001b[0m \u001b[32m━━━━━━━━━━━━━━━━━━━━\u001b[0m\u001b[37m\u001b[0m \u001b[1m0s\u001b[0m 4ms/step - accuracy: 0.4969 - loss: 0.6985 - val_accuracy: 0.5100 - val_loss: 0.6943\n",
      "Epoch 2/10\n",
      "\u001b[1m32/32\u001b[0m \u001b[32m━━━━━━━━━━━━━━━━━━━━\u001b[0m\u001b[37m\u001b[0m \u001b[1m0s\u001b[0m 656us/step - accuracy: 0.5099 - loss: 0.6951 - val_accuracy: 0.5000 - val_loss: 0.6931\n",
      "Epoch 3/10\n",
      "\u001b[1m32/32\u001b[0m \u001b[32m━━━━━━━━━━━━━━━━━━━━\u001b[0m\u001b[37m\u001b[0m \u001b[1m0s\u001b[0m 692us/step - accuracy: 0.5025 - loss: 0.6924 - val_accuracy: 0.5050 - val_loss: 0.6925\n",
      "Epoch 4/10\n",
      "\u001b[1m32/32\u001b[0m \u001b[32m━━━━━━━━━━━━━━━━━━━━\u001b[0m\u001b[37m\u001b[0m \u001b[1m0s\u001b[0m 644us/step - accuracy: 0.5094 - loss: 0.6928 - val_accuracy: 0.5250 - val_loss: 0.6925\n",
      "Epoch 5/10\n",
      "\u001b[1m32/32\u001b[0m \u001b[32m━━━━━━━━━━━━━━━━━━━━\u001b[0m\u001b[37m\u001b[0m \u001b[1m0s\u001b[0m 627us/step - accuracy: 0.5051 - loss: 0.6922 - val_accuracy: 0.5100 - val_loss: 0.6922\n",
      "Epoch 6/10\n",
      "\u001b[1m32/32\u001b[0m \u001b[32m━━━━━━━━━━━━━━━━━━━━\u001b[0m\u001b[37m\u001b[0m \u001b[1m0s\u001b[0m 643us/step - accuracy: 0.5319 - loss: 0.6901 - val_accuracy: 0.5300 - val_loss: 0.6923\n",
      "Epoch 7/10\n",
      "\u001b[1m32/32\u001b[0m \u001b[32m━━━━━━━━━━━━━━━━━━━━\u001b[0m\u001b[37m\u001b[0m \u001b[1m0s\u001b[0m 712us/step - accuracy: 0.5418 - loss: 0.6893 - val_accuracy: 0.5400 - val_loss: 0.6919\n",
      "Epoch 8/10\n",
      "\u001b[1m32/32\u001b[0m \u001b[32m━━━━━━━━━━━━━━━━━━━━\u001b[0m\u001b[37m\u001b[0m \u001b[1m0s\u001b[0m 723us/step - accuracy: 0.5306 - loss: 0.6879 - val_accuracy: 0.5350 - val_loss: 0.6918\n",
      "Epoch 9/10\n",
      "\u001b[1m32/32\u001b[0m \u001b[32m━━━━━━━━━━━━━━━━━━━━\u001b[0m\u001b[37m\u001b[0m \u001b[1m0s\u001b[0m 749us/step - accuracy: 0.5457 - loss: 0.6879 - val_accuracy: 0.5350 - val_loss: 0.6915\n",
      "Epoch 10/10\n",
      "\u001b[1m32/32\u001b[0m \u001b[32m━━━━━━━━━━━━━━━━━━━━\u001b[0m\u001b[37m\u001b[0m \u001b[1m0s\u001b[0m 687us/step - accuracy: 0.5228 - loss: 0.6880 - val_accuracy: 0.5300 - val_loss: 0.6916\n"
     ]
    },
    {
     "data": {
      "image/png": "[encoded data removed]",
      "text/plain": [
       "<Figure size 640x480 with 1 Axes>"
      ]
     },
     "metadata": {},
     "output_type": "display_data"
    },
    {
     "data": {
      "image/png": "[encoded data removed]",
      "text/plain": [
       "<Figure size 640x480 with 1 Axes>"
      ]
     },
     "metadata": {},
     "output_type": "display_data"
    }
   ],
   "source": [
    "# 4. How can you visualize the training progress using TensorFlow and Matplotlib?\n",
    "\n",
    "# You can use the history object returned by model.fit(), which contains training and validation metrics.\n",
    "\n",
    "import tensorflow as tf\n",
    "import matplotlib.pyplot as plt\n",
    "import numpy as np\n",
    "\n",
    "# Example: Create and compile a simple model\n",
    "model = tf.keras.Sequential([\n",
    "    tf.keras.layers.Dense(64, activation='relu', input_shape=(10,)),\n",
    "    tf.keras.layers.Dense(1, activation='sigmoid')\n",
    "])\n",
    "\n",
    "model.compile(optimizer='adam', loss='binary_crossentropy', metrics=['accuracy'])\n",
    "\n",
    "# Generate dummy data for training\n",
    "x_train = np.random.rand(1000, 10)\n",
    "y_train = np.random.randint(0, 2, size=(1000, 1))\n",
    "x_val = np.random.rand(200, 10)\n",
    "y_val = np.random.randint(0, 2, size=(200, 1))\n",
    "\n",
    "# Train the model and store the history\n",
    "history = model.fit(x_train, y_train, validation_data=(x_val, y_val), epochs=10)\n",
    "\n",
    "# Visualize training & validation loss\n",
    "plt.plot(history.history['loss'], label='Training Loss')\n",
    "plt.plot(history.history['val_loss'], label='Validation Loss')\n",
    "plt.xlabel('Epochs')\n",
    "plt.ylabel('Loss')\n",
    "plt.title('Loss Over Epochs')\n",
    "plt.legend()\n",
    "plt.grid(True)\n",
    "plt.show()\n",
    "\n",
    "# Visualize training & validation accuracy\n",
    "plt.plot(history.history['accuracy'], label='Training Accuracy')\n",
    "plt.plot(history.history['val_accuracy'], label='Validation Accuracy')\n",
    "plt.xlabel('Epochs')\n",
    "plt.ylabel('Accuracy')\n",
    "plt.title('Accuracy Over Epochs')\n",
    "plt.legend()\n",
    "plt.grid(True)\n",
    "plt.show()\n"
   ]
  },
  {
   "cell_type": "code",
   "execution_count": 15,
   "id": "d6ea743e",
   "metadata": {},
   "outputs": [
    {
     "name": "stdout",
     "output_type": "stream",
     "text": [
      "Requirement already satisfied: typing-extensions in /Users/saurabhkumar/anaconda3/lib/python3.11/site-packages (4.13.2)\n",
      "\n",
      "\u001b[1m[\u001b[0m\u001b[34;49mnotice\u001b[0m\u001b[1;39;49m]\u001b[0m\u001b[39;49m A new release of pip is available: \u001b[0m\u001b[31;49m24.0\u001b[0m\u001b[39;49m -> \u001b[0m\u001b[32;49m25.0.1\u001b[0m\n",
      "\u001b[1m[\u001b[0m\u001b[34;49mnotice\u001b[0m\u001b[1;39;49m]\u001b[0m\u001b[39;49m To update, run: \u001b[0m\u001b[32;49m/Users/saurabhkumar/anaconda3/bin/python -m pip install --upgrade pip\u001b[0m\n",
      "Note: you may need to restart the kernel to use updated packages.\n"
     ]
    }
   ],
   "source": [
    "pip install --upgrade typing-extensions\n"
   ]
  },
  {
   "cell_type": "code",
   "execution_count": 1,
   "id": "51302536",
   "metadata": {},
   "outputs": [
    {
     "name": "stderr",
     "output_type": "stream",
     "text": [
      "/Users/saurabhkumar/anaconda3/lib/python3.11/site-packages/torch/utils/_pytree.py:185: FutureWarning: optree is installed but the version is too old to support PyTorch Dynamo in C++ pytree. C++ pytree support is disabled. Please consider upgrading optree using `python3 -m pip install --upgrade 'optree>=0.13.0'`.\n",
      "  warnings.warn(\n"
     ]
    },
    {
     "name": "stdout",
     "output_type": "stream",
     "text": [
      "PyTorch version: 2.6.0\n",
      "CUDA available: False\n",
      "Number of GPUs: 0\n"
     ]
    }
   ],
   "source": [
    "# 5. How do you install PyTorch and verify the PyTorch installation?\n",
    "\n",
    "# Step 1: Install PyTorch\n",
    "# You can install the appropriate version based on your system from https://pytorch.org\n",
    "# For most systems with pip and CPU:\n",
    "# pip install torch torchvision\n",
    "\n",
    "# For GPU support (if you have CUDA):\n",
    "# pip install torch torchvision --index-url https://download.pytorch.org/whl/cu118\n",
    "\n",
    "# Step 2: Verify the installation\n",
    "import torch\n",
    "\n",
    "# Print the PyTorch version\n",
    "print(\"PyTorch version:\", torch.__version__)\n",
    "\n",
    "# Check if CUDA (GPU) is available\n",
    "print(\"CUDA available:\", torch.cuda.is_available())\n",
    "\n",
    "# Check the number of available GPUs\n",
    "print(\"Number of GPUs:\", torch.cuda.device_count())\n",
    "\n",
    "# Print name of the GPU device (if available)\n",
    "if torch.cuda.is_available():\n",
    "    print(\"GPU name:\", torch.cuda.get_device_name(0))\n",
    "\n",
    "# output:\n",
    "# PyTorch version: 2.6.0\n",
    "# CUDA available: False\n",
    "# Number of GPUs: 0"
   ]
  },
  {
   "cell_type": "code",
   "execution_count": 2,
   "id": "20b98c58",
   "metadata": {},
   "outputs": [
    {
     "name": "stdout",
     "output_type": "stream",
     "text": [
      "SimpleNN(\n",
      "  (fc1): Linear(in_features=10, out_features=64, bias=True)\n",
      "  (relu): ReLU()\n",
      "  (fc2): Linear(in_features=64, out_features=1, bias=True)\n",
      ")\n",
      "tensor([[-0.1717],\n",
      "        [-0.1424],\n",
      "        [-0.4341],\n",
      "        [ 0.0484],\n",
      "        [ 0.0714]], grad_fn=<AddmmBackward0>)\n"
     ]
    }
   ],
   "source": [
    "# 6. How do you create a simple neural network in PyTorch?\n",
    "\n",
    "import torch\n",
    "import torch.nn as nn\n",
    "import torch.optim as optim\n",
    "\n",
    "# Define a simple neural network class by subclassing nn.Module\n",
    "class SimpleNN(nn.Module):\n",
    "    def __init__(self, input_dim, hidden_dim, output_dim):\n",
    "        super(SimpleNN, self).__init__()\n",
    "        # Define the layers\n",
    "        self.fc1 = nn.Linear(input_dim, hidden_dim)  # Fully connected layer 1\n",
    "        self.relu = nn.ReLU()                        # ReLU activation\n",
    "        self.fc2 = nn.Linear(hidden_dim, output_dim) # Fully connected layer 2\n",
    "\n",
    "    # Define the forward pass\n",
    "    def forward(self, x):\n",
    "        x = self.fc1(x)   # Pass input through the first layer\n",
    "        x = self.relu(x)   # Apply ReLU activation\n",
    "        x = self.fc2(x)    # Pass through the second layer\n",
    "        return x\n",
    "\n",
    "# Define the input size, hidden layer size, and output size\n",
    "input_dim = 10  # Example: 10 input features\n",
    "hidden_dim = 64 # Example: 64 units in the hidden layer\n",
    "output_dim = 1  # Example: Output layer for binary classification (1 output)\n",
    "\n",
    "# Instantiate the model\n",
    "model = SimpleNN(input_dim, hidden_dim, output_dim)\n",
    "\n",
    "# Print the model architecture\n",
    "print(model)\n",
    "\n",
    "# Example: Random input tensor with shape (batch_size, input_dim)\n",
    "# For example, a batch size of 5 and 10 input features\n",
    "x = torch.randn(5, input_dim)\n",
    "\n",
    "# Forward pass: Pass the input through the model\n",
    "output = model(x)\n",
    "print(output)\n",
    "# output:\n",
    "'''\n",
    "SimpleNN(\n",
    "  (fc1): Linear(in_features=10, out_features=64, bias=True)\n",
    "  (relu): ReLU()\n",
    "  (fc2): Linear(in_features=64, out_features=1, bias=True)\n",
    ")\n",
    "tensor([[-0.1717],\n",
    "        [-0.1424],\n",
    "        [-0.4341],\n",
    "        [ 0.0484],\n",
    "        [ 0.0714]], grad_fn=<AddmmBackward0>)\n",
    "'''"
   ]
  },
  {
   "cell_type": "code",
   "execution_count": 3,
   "id": "43a404ad",
   "metadata": {},
   "outputs": [
    {
     "name": "stdout",
     "output_type": "stream",
     "text": [
      "Loss: 0.7661976218223572\n"
     ]
    }
   ],
   "source": [
    "# 7. How do you define a loss function and optimizer in PyTorch?\n",
    "\n",
    "import torch\n",
    "import torch.nn as nn\n",
    "import torch.optim as optim\n",
    "\n",
    "# Example: Define a simple neural network class\n",
    "class SimpleNN(nn.Module):\n",
    "    def __init__(self, input_dim, hidden_dim, output_dim):\n",
    "        super(SimpleNN, self).__init__()\n",
    "        self.fc1 = nn.Linear(input_dim, hidden_dim)\n",
    "        self.relu = nn.ReLU()\n",
    "        self.fc2 = nn.Linear(hidden_dim, output_dim)\n",
    "\n",
    "    def forward(self, x):\n",
    "        x = self.fc1(x)\n",
    "        x = self.relu(x)\n",
    "        x = self.fc2(x)\n",
    "        return x\n",
    "\n",
    "# Define the input size, hidden layer size, and output size\n",
    "input_dim = 10\n",
    "hidden_dim = 64\n",
    "output_dim = 1\n",
    "\n",
    "# Instantiate the model\n",
    "model = SimpleNN(input_dim, hidden_dim, output_dim)\n",
    "\n",
    "# Define a loss function\n",
    "# For a binary classification problem, we often use Binary Cross-Entropy loss\n",
    "loss_function = nn.BCEWithLogitsLoss()\n",
    "\n",
    "# Define an optimizer\n",
    "# Use Adam optimizer (can be replaced with SGD, RMSprop, etc.)\n",
    "optimizer = optim.Adam(model.parameters(), lr=0.001)\n",
    "\n",
    "# Example: Forward pass (with random input)\n",
    "x = torch.randn(5, input_dim)  # Example input (batch size = 5)\n",
    "y_true = torch.randint(0, 2, (5, 1)).float()  # Example true labels (binary)\n",
    "\n",
    "# Forward pass to get model output\n",
    "output = model(x)\n",
    "\n",
    "# Compute the loss\n",
    "loss = loss_function(output, y_true)\n",
    "\n",
    "# Print the loss\n",
    "print(\"Loss:\", loss.item())\n",
    "\n",
    "# Zero gradients before backward pass\n",
    "optimizer.zero_grad()\n",
    "\n",
    "# Perform backward pass to compute gradients\n",
    "loss.backward()\n",
    "\n",
    "# Update the model weights\n",
    "optimizer.step()\n",
    "\n",
    "# output:Loss: 0.7661976218223572"
   ]
  },
  {
   "cell_type": "code",
   "execution_count": 4,
   "id": "f3a78040",
   "metadata": {},
   "outputs": [
    {
     "name": "stdout",
     "output_type": "stream",
     "text": [
      "Custom Loss: 2.429933547973633\n"
     ]
    }
   ],
   "source": [
    "# 8. How do you implement a custom loss function in PyTorch?\n",
    "\n",
    "import torch\n",
    "import torch.nn as nn\n",
    "\n",
    "# Define a custom loss function by subclassing nn.Module\n",
    "class CustomLoss(nn.Module):\n",
    "    def __init__(self):\n",
    "        super(CustomLoss, self).__init__()\n",
    "\n",
    "    def forward(self, output, target):\n",
    "        # Custom loss logic\n",
    "        # For example, a simple custom loss that penalizes squared difference\n",
    "        loss = torch.mean((output - target) ** 2)  # Mean Squared Error (MSE)\n",
    "        return loss\n",
    "\n",
    "# Example: Define a simple neural network\n",
    "class SimpleNN(nn.Module):\n",
    "    def __init__(self, input_dim, hidden_dim, output_dim):\n",
    "        super(SimpleNN, self).__init__()\n",
    "        self.fc1 = nn.Linear(input_dim, hidden_dim)\n",
    "        self.relu = nn.ReLU()\n",
    "        self.fc2 = nn.Linear(hidden_dim, output_dim)\n",
    "\n",
    "    def forward(self, x):\n",
    "        x = self.fc1(x)\n",
    "        x = self.relu(x)\n",
    "        x = self.fc2(x)\n",
    "        return x\n",
    "\n",
    "# Instantiate the model\n",
    "input_dim = 10\n",
    "hidden_dim = 64\n",
    "output_dim = 1\n",
    "model = SimpleNN(input_dim, hidden_dim, output_dim)\n",
    "\n",
    "# Instantiate the custom loss function\n",
    "custom_loss = CustomLoss()\n",
    "\n",
    "# Example data: random input and target\n",
    "x = torch.randn(5, input_dim)  # Example input (batch size = 5)\n",
    "y_true = torch.randn(5, output_dim)  # Example target (real-valued for regression)\n",
    "\n",
    "# Forward pass\n",
    "output = model(x)\n",
    "\n",
    "# Compute the loss using the custom loss function\n",
    "loss = custom_loss(output, y_true)\n",
    "\n",
    "# Print the computed loss\n",
    "print(\"Custom Loss:\", loss.item())\n",
    "\n",
    "# Example of backward pass and optimizer step\n",
    "optimizer = torch.optim.Adam(model.parameters(), lr=0.001)\n",
    "optimizer.zero_grad()\n",
    "loss.backward()\n",
    "optimizer.step()\n",
    "\n",
    "# output:Custom Loss: 2.429933547973633"
   ]
  },
  {
   "cell_type": "code",
   "execution_count": 5,
   "id": "e2adefe9",
   "metadata": {},
   "outputs": [
    {
     "name": "stdout",
     "output_type": "stream",
     "text": [
      "Epoch 1/5\n"
     ]
    },
    {
     "name": "stderr",
     "output_type": "stream",
     "text": [
      "/Users/saurabhkumar/anaconda3/lib/python3.11/site-packages/keras/src/layers/core/dense.py:86: UserWarning: Do not pass an `input_shape`/`input_dim` argument to a layer. When using Sequential models, prefer using an `Input(shape)` object as the first layer in the model instead.\n",
      "  super().__init__(activity_regularizer=activity_regularizer, **kwargs)\n"
     ]
    },
    {
     "name": "stdout",
     "output_type": "stream",
     "text": [
      "\u001b[1m32/32\u001b[0m \u001b[32m━━━━━━━━━━━━━━━━━━━━\u001b[0m\u001b[37m\u001b[0m \u001b[1m0s\u001b[0m 421us/step - accuracy: 0.4757 - loss: 0.7369\n",
      "Epoch 2/5\n",
      "\u001b[1m32/32\u001b[0m \u001b[32m━━━━━━━━━━━━━━━━━━━━\u001b[0m\u001b[37m\u001b[0m \u001b[1m0s\u001b[0m 387us/step - accuracy: 0.4634 - loss: 0.7034\n",
      "Epoch 3/5\n",
      "\u001b[1m32/32\u001b[0m \u001b[32m━━━━━━━━━━━━━━━━━━━━\u001b[0m\u001b[37m\u001b[0m \u001b[1m0s\u001b[0m 449us/step - accuracy: 0.4796 - loss: 0.6998\n",
      "Epoch 4/5\n",
      "\u001b[1m32/32\u001b[0m \u001b[32m━━━━━━━━━━━━━━━━━━━━\u001b[0m\u001b[37m\u001b[0m \u001b[1m0s\u001b[0m 313us/step - accuracy: 0.4886 - loss: 0.6959\n",
      "Epoch 5/5\n",
      "\u001b[1m32/32\u001b[0m \u001b[32m━━━━━━━━━━━━━━━━━━━━\u001b[0m\u001b[37m\u001b[0m \u001b[1m0s\u001b[0m 317us/step - accuracy: 0.5082 - loss: 0.6944\n"
     ]
    },
    {
     "name": "stderr",
     "output_type": "stream",
     "text": [
      "WARNING:absl:You are saving your model as an HDF5 file via `model.save()` or `keras.saving.save_model(model)`. This file format is considered legacy. We recommend using instead the native Keras format, e.g. `model.save('my_model.keras')` or `keras.saving.save_model(model, 'my_model.keras')`. \n"
     ]
    }
   ],
   "source": [
    "# 9.⁠ ⁠How do you save and load a TensorFlow model?\n",
    "# Save the model\n",
    "import tensorflow as tf\n",
    "\n",
    "# Example: Create a simple model\n",
    "model = tf.keras.Sequential([\n",
    "    tf.keras.layers.Dense(64, activation='relu', input_shape=(10,)),\n",
    "    tf.keras.layers.Dense(1, activation='sigmoid')\n",
    "])\n",
    "\n",
    "# Compile the model\n",
    "model.compile(optimizer='adam', loss='binary_crossentropy', metrics=['accuracy'])\n",
    "\n",
    "# Train the model (dummy data)\n",
    "import numpy as np\n",
    "x_train = np.random.rand(1000, 10)\n",
    "y_train = np.random.randint(0, 2, size=(1000, 1))\n",
    "model.fit(x_train, y_train, epochs=5)\n",
    "\n",
    "# Save the entire model to a file\n",
    "model.save('my_model.h5')  # .h5 format is a common choice\n"
   ]
  },
  {
   "cell_type": "code",
   "execution_count": 6,
   "id": "e4a3079d",
   "metadata": {},
   "outputs": [
    {
     "name": "stdout",
     "output_type": "stream",
     "text": [
      "Epoch 1/5\n",
      "\u001b[1m32/32\u001b[0m \u001b[32m━━━━━━━━━━━━━━━━━━━━\u001b[0m\u001b[37m\u001b[0m \u001b[1m0s\u001b[0m 361us/step - accuracy: 0.5220 - loss: 0.6941\n",
      "Epoch 2/5\n",
      "\u001b[1m32/32\u001b[0m \u001b[32m━━━━━━━━━━━━━━━━━━━━\u001b[0m\u001b[37m\u001b[0m \u001b[1m0s\u001b[0m 332us/step - accuracy: 0.5130 - loss: 0.6947\n",
      "Epoch 3/5\n",
      "\u001b[1m32/32\u001b[0m \u001b[32m━━━━━━━━━━━━━━━━━━━━\u001b[0m\u001b[37m\u001b[0m \u001b[1m0s\u001b[0m 345us/step - accuracy: 0.5115 - loss: 0.6913\n",
      "Epoch 4/5\n",
      "\u001b[1m32/32\u001b[0m \u001b[32m━━━━━━━━━━━━━━━━━━━━\u001b[0m\u001b[37m\u001b[0m \u001b[1m0s\u001b[0m 316us/step - accuracy: 0.5357 - loss: 0.6891\n",
      "Epoch 5/5\n",
      "\u001b[1m32/32\u001b[0m \u001b[32m━━━━━━━━━━━━━━━━━━━━\u001b[0m\u001b[37m\u001b[0m \u001b[1m0s\u001b[0m 316us/step - accuracy: 0.5400 - loss: 0.6880\n"
     ]
    },
    {
     "name": "stderr",
     "output_type": "stream",
     "text": [
      "WARNING:absl:You are saving your model as an HDF5 file via `model.save()` or `keras.saving.save_model(model)`. This file format is considered legacy. We recommend using instead the native Keras format, e.g. `model.save('my_model.keras')` or `keras.saving.save_model(model, 'my_model.keras')`. \n"
     ]
    }
   ],
   "source": [
    "# Save the model\n",
    "import tensorflow as tf\n",
    "\n",
    "# Example: Create a simple model\n",
    "model = tf.keras.Sequential([\n",
    "    tf.keras.layers.Dense(64, activation='relu', input_shape=(10,)),\n",
    "    tf.keras.layers.Dense(1, activation='sigmoid')\n",
    "])\n",
    "\n",
    "# Compile the model\n",
    "model.compile(optimizer='adam', loss='binary_crossentropy', metrics=['accuracy'])\n",
    "\n",
    "# Train the model (dummy data)\n",
    "import numpy as np\n",
    "x_train = np.random.rand(1000, 10)\n",
    "y_train = np.random.randint(0, 2, size=(1000, 1))\n",
    "model.fit(x_train, y_train, epochs=5)\n",
    "\n",
    "# Save the entire model to a file\n",
    "model.save('my_model.h5')  # .h5 format is a common choice\n"
   ]
  },
  {
   "cell_type": "code",
   "execution_count": null,
   "id": "504666c5",
   "metadata": {},
   "outputs": [],
   "source": []
  }
 ],
 "metadata": {
  "kernelspec": {
   "display_name": "Python 3 (ipykernel)",
   "language": "python",
   "name": "python3"
  },
  "language_info": {
   "codemirror_mode": {
    "name": "ipython",
    "version": 3
   },
   "file_extension": ".py",
   "mimetype": "text/x-python",
   "name": "python",
   "nbconvert_exporter": "python",
   "pygments_lexer": "ipython3",
   "version": "3.11.5"
  }
 },
 "nbformat": 4,
 "nbformat_minor": 5
}
